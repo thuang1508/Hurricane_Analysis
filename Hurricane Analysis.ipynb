{
 "cells": [
  {
   "cell_type": "markdown",
   "id": "58875e7a",
   "metadata": {},
   "source": [
    "# Hurricane Analysis"
   ]
  },
  {
   "cell_type": "markdown",
   "id": "9a2d9627",
   "metadata": {},
   "source": [
    "#### Overview"
   ]
  },
  {
   "cell_type": "markdown",
   "id": "633e5dde",
   "metadata": {},
   "source": [
    "This project is slightly different than others you have encountered thus far. Instead of a step-by-step tutorial, this project contains a series of open-ended requirements which describe the project you'll be building. There are many possible ways to correctly fulfill all of these requirements, and you should expect to use the internet, Codecademy, and other resources when you encounter a problem that you cannot easily solve."
   ]
  },
  {
   "cell_type": "markdown",
   "id": "52f01f07",
   "metadata": {},
   "source": [
    "#### Project Goals"
   ]
  },
  {
   "cell_type": "markdown",
   "id": "d9d06c43",
   "metadata": {},
   "source": [
    "You will work to write several functions that organize and manipulate data about Category 5 Hurricanes, the strongest hurricanes as rated by their wind speed. Each one of these functions will use a number of parameters, conditionals, lists, dictionaries, string manipulation, and return statements."
   ]
  },
  {
   "cell_type": "markdown",
   "id": "7fbb9fb5",
   "metadata": {},
   "source": [
    "#### Prerequisites"
   ]
  },
  {
   "cell_type": "markdown",
   "id": "4732a1e8",
   "metadata": {},
   "source": [
    "In order to complete this project, you should have completed the Loops and Dictionaries sections of the [Learn Python 3 Course](https://www.codecademy.com/learn/learn-python-3). This content is also covered in the [Data Scientist Career Path](https://www.codecademy.com/learn/paths/data-science/)."
   ]
  },
  {
   "cell_type": "markdown",
   "id": "1e924903",
   "metadata": {},
   "source": [
    "## Project Requirements"
   ]
  },
  {
   "cell_type": "markdown",
   "id": "35d6f74d",
   "metadata": {},
   "source": [
    "1. Hurricanes, also known as cyclones or typhoons, are one of the most powerful forces of nature on Earth. Due to climate change caused by human activity, the number and intensity of hurricanes has risen, calling for better preparation by the many communities that are devastated by them. As a concerned environmentalist, you want to look at data about the most powerful hurricanes that have occured. \n",
    "\n",
    "   Begin by looking at the `damages` list. The list contains strings representing the total cost in USD(`$`) caused by `34` category 5 hurricanes (wind speeds $\\ge$ 157 mph (252 km/h)) in the Atlantic region. For some of the hurricanes, damage data was not recorded (`\"Damages not recorded\"`), while the rest are written in the format `\"Prefix-B/M\"`, where `B` stands for billions (`1000000000`) and `M` stands for millions (`1000000`).\n",
    "   \n",
    "   Write a function that returns a new list of updated damages where the recorded data is converted to float values and the missing data is retained as `\"Damages not recorded\"`.\n",
    "   \n",
    "   Test your function with the data stored in `damages`."
   ]
  },
  {
   "cell_type": "code",
   "execution_count": 330,
   "id": "d8d3c50b",
   "metadata": {},
   "outputs": [
    {
     "name": "stdout",
     "output_type": "stream",
     "text": [
      "['Damages not recorded', 100000000.0, 'Damages not recorded', 40000000.0, 27900000.0, 5000000.0, 'Damages not recorded', 306000000.0, 2000000.0, 65800000.0, 326000000.0, 60300000.0, 208000000.0, 1420000000.0, 25400000.0, 'Damages not recorded', 1540000000.0, 1240000000.0, 7100000000.0, 10000000000.0, 26500000000.0, 6200000000.0, 5370000000.0, 23300000000.0, 1010000000.0, 125000000000.0, 12000000000.0, 29400000000.0, 1760000000.0, 720000000.0, 15100000000.0, 64800000000.0, 91600000000.0, 25100000000.0]\n"
     ]
    }
   ],
   "source": [
    "# damages (USD($)) of hurricanes\n",
    "damages = ['Damages not recorded', '100M', 'Damages not recorded', '40M',\n",
    "          '27.9M', '5M', 'Damages not recorded', '306M', '2M', '65.8M',\n",
    "          '326M', '60.3M', '208M', '1.42B', '25.4M', 'Damages not recorded',\n",
    "          '1.54B', '1.24B', '7.1B', '10B', '26.5B', '6.2B', '5.37B', '23.3B',\n",
    "          '1.01B', '125B', '12B', '29.4B', '1.76B', '720M', '15.1B', '64.8B',\n",
    "          '91.6B', '25.1B']\n",
    "\n",
    "# 1\n",
    "# Update Recorded Damages\n",
    "conversion = {\"M\": 1000000,\n",
    "             \"B\": 1000000000}\n",
    "\n",
    "# test function by updating damages\n",
    "def updating_damage():\n",
    "    updating_damage = []\n",
    "    for damage in damages:\n",
    "        if damage == 'Damages not recorded':\n",
    "            updating_damage.append(damage)\n",
    "        if damage.find('M') != -1:\n",
    "            updating_damage.append(float(damage[:-1])*conversion['M'])\n",
    "        if damage.find('B') != -1:\n",
    "            updating_damage.append(float(damage[:-1])*conversion['B'])\n",
    "    return updating_damage\n",
    "\n",
    "\n",
    "updated_damages = updating_damage()\n",
    "print(updated_damages)"
   ]
  },
  {
   "cell_type": "markdown",
   "id": "36ac47b6",
   "metadata": {},
   "source": [
    "2. Additional data collected on the `34` strongest Atlantic hurricanes are provided in a series of lists. The data includes:\n",
    "   - `names`: names of the hurricanes\n",
    "   - `months`: months in which the hurricanes occurred\n",
    "   - `years`: years in which the hurricanes occurred\n",
    "   - `max_sustained_winds`: maximum sustained winds (miles per hour) of the hurricanes\n",
    "   - `areas_affected`: list of different areas affected by each of the hurricanes\n",
    "   - `deaths`: total number of deaths caused by each of the hurricanes\n",
    "   \n",
    "   The data is organized such that the data at each index, from `0` to `33`, corresponds to the same hurricane.\n",
    "   \n",
    "   For example, `names[0]` yields the \"Cuba I\" hurricane, which occurred in `months[0]` (October) `years[0]` (1924).\n",
    "   \n",
    "   Write a function that constructs a dictionary made out of the lists, where the keys of the dictionary are the names of the hurricanes, and the values are dictionaries themselves containing a key for each piece of data (`Name`, `Month`, `Year`, `Max Sustained Wind`, `Areas Affected`, `Damage`, `Death`) about the hurricane.\n",
    "   \n",
    "   Thus the key `\"Cuba I\"` would have the value: `{'Name': 'Cuba I', 'Month': 'October', 'Year': 1924, 'Max Sustained Wind': 165, 'Areas Affected': ['Central America', 'Mexico', 'Cuba', 'Florida', 'The Bahamas'], 'Damage': 'Damages not recorded', 'Deaths': 90}`.\n",
    "   \n",
    "   Test your function on the lists of data provided."
   ]
  },
  {
   "cell_type": "code",
   "execution_count": 331,
   "id": "641aa113",
   "metadata": {},
   "outputs": [
    {
     "name": "stdout",
     "output_type": "stream",
     "text": [
      "{'name': 'Cuba I', 'month': 'October', 'year': 1924, 'max_sustained_wind': 165, 'areas_affected': ['Central America', 'Mexico', 'Cuba', 'Florida', 'The Bahamas'], 'damage': 'Damages not recorded', 'death': 90}\n"
     ]
    }
   ],
   "source": [
    "# names of hurricanes\n",
    "names = ['Cuba I', 'San Felipe II Okeechobee', 'Bahamas', 'Cuba II', 'CubaBrownsville', 'Tampico', 'Labor Day', 'New England', 'Carol', 'Janet', 'Carla', 'Hattie', 'Beulah', 'Camille', 'Edith', 'Anita', 'David', 'Allen', 'Gilbert', 'Hugo', 'Andrew', 'Mitch', 'Isabel', 'Ivan', 'Emily', 'Katrina', 'Rita', 'Wilma', 'Dean', 'Felix', 'Matthew', 'Irma', 'Maria', 'Michael']\n",
    "\n",
    "# months of hurricanes\n",
    "months = ['October', 'September', 'September', 'November', 'August', 'September', 'September', 'September', 'September', 'September', 'September', 'October', 'September', 'August', 'September', 'September', 'August', 'August', 'September', 'September', 'August', 'October', 'September', 'September', 'July', 'August', 'September', 'October', 'August', 'September', 'October', 'September', 'September', 'October']\n",
    "\n",
    "# years of hurricanes\n",
    "years = [1924, 1928, 1932, 1932, 1933, 1933, 1935, 1938, 1953, 1955, 1961, 1961, 1967, 1969, 1971, 1977, 1979, 1980, 1988, 1989, 1992, 1998, 2003, 2004, 2005, 2005, 2005, 2005, 2007, 2007, 2016, 2017, 2017, 2018]\n",
    "\n",
    "# maximum sustained winds (mph) of hurricanes\n",
    "max_sustained_winds = [165, 160, 160, 175, 160, 160, 185, 160, 160, 175, 175, 160, 160, 175, 160, 175, 175, 190, 185, 160, 175, 180, 165, 165, 160, 175, 180, 185, 175, 175, 165, 180, 175, 160]\n",
    "\n",
    "# areas affected by each hurricane\n",
    "areas_affected = [['Central America', 'Mexico', 'Cuba', 'Florida', 'The Bahamas'], ['Lesser Antilles', 'The Bahamas', 'United States East Coast', 'Atlantic Canada'], ['The Bahamas', 'Northeastern United States'], ['Lesser Antilles', 'Jamaica', 'Cayman Islands', 'Cuba', 'The Bahamas', 'Bermuda'], ['The Bahamas', 'Cuba', 'Florida', 'Texas', 'Tamaulipas'], ['Jamaica', 'Yucatn Peninsula'], ['The Bahamas', 'Florida', 'Georgia', 'The Carolinas', 'Virginia'], ['Southeastern United States', 'Northeastern United States', 'Southwestern Quebec'], ['Bermuda', 'New England', 'Atlantic Canada'], ['Lesser Antilles', 'Central America'], ['Texas', 'Louisiana', 'Midwestern United States'], ['Central America'], ['The Caribbean', 'Mexico', 'Texas'], ['Cuba', 'United States Gulf Coast'], ['The Caribbean', 'Central America', 'Mexico', 'United States Gulf Coast'], ['Mexico'], ['The Caribbean', 'United States East coast'], ['The Caribbean', 'Yucatn Peninsula', 'Mexico', 'South Texas'], ['Jamaica', 'Venezuela', 'Central America', 'Hispaniola', 'Mexico'], ['The Caribbean', 'United States East Coast'], ['The Bahamas', 'Florida', 'United States Gulf Coast'], ['Central America', 'Yucatn Peninsula', 'South Florida'], ['Greater Antilles', 'Bahamas', 'Eastern United States', 'Ontario'], ['The Caribbean', 'Venezuela', 'United States Gulf Coast'], ['Windward Islands', 'Jamaica', 'Mexico', 'Texas'], ['Bahamas', 'United States Gulf Coast'], ['Cuba', 'United States Gulf Coast'], ['Greater Antilles', 'Central America', 'Florida'], ['The Caribbean', 'Central America'], ['Nicaragua', 'Honduras'], ['Antilles', 'Venezuela', 'Colombia', 'United States East Coast', 'Atlantic Canada'], ['Cape Verde', 'The Caribbean', 'British Virgin Islands', 'U.S. Virgin Islands', 'Cuba', 'Florida'], ['Lesser Antilles', 'Virgin Islands', 'Puerto Rico', 'Dominican Republic', 'Turks and Caicos Islands'], ['Central America', 'United States Gulf Coast (especially Florida Panhandle)']]\n",
    "\n",
    "# damages (USD($)) of hurricanes\n",
    "damages = ['Damages not recorded', '100M', 'Damages not recorded', '40M', '27.9M', '5M', 'Damages not recorded', '306M', '2M', '65.8M', '326M', '60.3M', '208M', '1.42B', '25.4M', 'Damages not recorded', '1.54B', '1.24B', '7.1B', '10B', '26.5B', '6.2B', '5.37B', '23.3B', '1.01B', '125B', '12B', '29.4B', '1.76B', '720M', '15.1B', '64.8B', '91.6B', '25.1B']\n",
    "\n",
    "# deaths for each hurricane\n",
    "deaths = [90,4000,16,3103,179,184,408,682,5,1023,43,319,688,259,37,11,2068,269,318,107,65,19325,51,124,17,1836,125,87,45,133,603,138,3057,74]\n",
    "\n",
    "# 2\n",
    "# Create a Table\n",
    "# Create and view the hurricanes dictionary\n",
    "def hurricanes_dictionary():\n",
    "    hurricanes_dictionary = {}\n",
    "    for i in range(len(names)):\n",
    "        hurricanes_dictionary[names[i]] = {\n",
    "            'name': names[i],\n",
    "            'month': months[i],\n",
    "            'year': years[i],\n",
    "            'max_sustained_wind': max_sustained_winds[i],\n",
    "            'areas_affected': areas_affected[i],\n",
    "            'damage': updated_damages[i],\n",
    "            'death': deaths[i]\n",
    "        }\n",
    "    return hurricanes_dictionary\n",
    "\n",
    "\n",
    "hurricane_data = hurricanes_dictionary() #bằng với cả một library (khi sử dụng thì gọi biến này)\n",
    "print(hurricane_data['Cuba I'])\n",
    "\n"
   ]
  },
  {
   "cell_type": "markdown",
   "id": "6d0a1933",
   "metadata": {},
   "source": [
    "3. In addition to organizing the hurricanes in a dictionary with names as the key, you want to be able to organize the hurricanes by year.\n",
    "\n",
    "   Write a function that converts the current dictionary of hurricanes to a new dictionary, where the keys are years and the values are lists containing a dictionary for each hurricane that occurred in that year.\n",
    "   \n",
    "   For example, the key `1932` would yield the value: `[{'Name': 'Bahamas', 'Month': 'September', 'Year': 1932, 'Max Sustained Wind': 160, 'Areas Affected': ['The Bahamas', 'Northeastern United States'], 'Damage': 'Damage not recorded', 'Deaths': 16}, {'Name': 'Cuba II', 'Month': 'November', 'Year': 1932, 'Max Sustained Wind': 175, 'Areas Affected': ['Lesser Antilles', 'Jamaica', 'Cayman Islands', 'Cuba', 'The Bahamas', 'Bermuda'], 'Damage': 40000000.0, 'Deaths': 3103}]`.\n",
    "   \n",
    "   Test your function on your hurricane dictionary."
   ]
  },
  {
   "cell_type": "code",
   "execution_count": 332,
   "id": "1ef2edea",
   "metadata": {},
   "outputs": [
    {
     "name": "stdout",
     "output_type": "stream",
     "text": [
      "{1924: [{'name': 'Cuba I', 'month': 'October', 'year': 1924, 'max_sustained_wind': 165, 'areas_affected': ['Central America', 'Mexico', 'Cuba', 'Florida', 'The Bahamas'], 'damage': 'Damages not recorded', 'death': 90}], 1928: [{'name': 'San Felipe II Okeechobee', 'month': 'September', 'year': 1928, 'max_sustained_wind': 160, 'areas_affected': ['Lesser Antilles', 'The Bahamas', 'United States East Coast', 'Atlantic Canada'], 'damage': 100000000.0, 'death': 4000}], 1932: [{'name': 'Bahamas', 'month': 'September', 'year': 1932, 'max_sustained_wind': 160, 'areas_affected': ['The Bahamas', 'Northeastern United States'], 'damage': 'Damages not recorded', 'death': 16}, {'name': 'Cuba II', 'month': 'November', 'year': 1932, 'max_sustained_wind': 175, 'areas_affected': ['Lesser Antilles', 'Jamaica', 'Cayman Islands', 'Cuba', 'The Bahamas', 'Bermuda'], 'damage': 40000000.0, 'death': 3103}], 1933: [{'name': 'CubaBrownsville', 'month': 'August', 'year': 1933, 'max_sustained_wind': 160, 'areas_affected': ['The Bahamas', 'Cuba', 'Florida', 'Texas', 'Tamaulipas'], 'damage': 27900000.0, 'death': 179}, {'name': 'Tampico', 'month': 'September', 'year': 1933, 'max_sustained_wind': 160, 'areas_affected': ['Jamaica', 'Yucatn Peninsula'], 'damage': 5000000.0, 'death': 184}], 1935: [{'name': 'Labor Day', 'month': 'September', 'year': 1935, 'max_sustained_wind': 185, 'areas_affected': ['The Bahamas', 'Florida', 'Georgia', 'The Carolinas', 'Virginia'], 'damage': 'Damages not recorded', 'death': 408}], 1938: [{'name': 'New England', 'month': 'September', 'year': 1938, 'max_sustained_wind': 160, 'areas_affected': ['Southeastern United States', 'Northeastern United States', 'Southwestern Quebec'], 'damage': 306000000.0, 'death': 682}], 1953: [{'name': 'Carol', 'month': 'September', 'year': 1953, 'max_sustained_wind': 160, 'areas_affected': ['Bermuda', 'New England', 'Atlantic Canada'], 'damage': 2000000.0, 'death': 5}], 1955: [{'name': 'Janet', 'month': 'September', 'year': 1955, 'max_sustained_wind': 175, 'areas_affected': ['Lesser Antilles', 'Central America'], 'damage': 65800000.0, 'death': 1023}], 1961: [{'name': 'Carla', 'month': 'September', 'year': 1961, 'max_sustained_wind': 175, 'areas_affected': ['Texas', 'Louisiana', 'Midwestern United States'], 'damage': 326000000.0, 'death': 43}, {'name': 'Hattie', 'month': 'October', 'year': 1961, 'max_sustained_wind': 160, 'areas_affected': ['Central America'], 'damage': 60300000.0, 'death': 319}], 1967: [{'name': 'Beulah', 'month': 'September', 'year': 1967, 'max_sustained_wind': 160, 'areas_affected': ['The Caribbean', 'Mexico', 'Texas'], 'damage': 208000000.0, 'death': 688}], 1969: [{'name': 'Camille', 'month': 'August', 'year': 1969, 'max_sustained_wind': 175, 'areas_affected': ['Cuba', 'United States Gulf Coast'], 'damage': 1420000000.0, 'death': 259}], 1971: [{'name': 'Edith', 'month': 'September', 'year': 1971, 'max_sustained_wind': 160, 'areas_affected': ['The Caribbean', 'Central America', 'Mexico', 'United States Gulf Coast'], 'damage': 25400000.0, 'death': 37}], 1977: [{'name': 'Anita', 'month': 'September', 'year': 1977, 'max_sustained_wind': 175, 'areas_affected': ['Mexico'], 'damage': 'Damages not recorded', 'death': 11}], 1979: [{'name': 'David', 'month': 'August', 'year': 1979, 'max_sustained_wind': 175, 'areas_affected': ['The Caribbean', 'United States East coast'], 'damage': 1540000000.0, 'death': 2068}], 1980: [{'name': 'Allen', 'month': 'August', 'year': 1980, 'max_sustained_wind': 190, 'areas_affected': ['The Caribbean', 'Yucatn Peninsula', 'Mexico', 'South Texas'], 'damage': 1240000000.0, 'death': 269}], 1988: [{'name': 'Gilbert', 'month': 'September', 'year': 1988, 'max_sustained_wind': 185, 'areas_affected': ['Jamaica', 'Venezuela', 'Central America', 'Hispaniola', 'Mexico'], 'damage': 7100000000.0, 'death': 318}], 1989: [{'name': 'Hugo', 'month': 'September', 'year': 1989, 'max_sustained_wind': 160, 'areas_affected': ['The Caribbean', 'United States East Coast'], 'damage': 10000000000.0, 'death': 107}], 1992: [{'name': 'Andrew', 'month': 'August', 'year': 1992, 'max_sustained_wind': 175, 'areas_affected': ['The Bahamas', 'Florida', 'United States Gulf Coast'], 'damage': 26500000000.0, 'death': 65}], 1998: [{'name': 'Mitch', 'month': 'October', 'year': 1998, 'max_sustained_wind': 180, 'areas_affected': ['Central America', 'Yucatn Peninsula', 'South Florida'], 'damage': 6200000000.0, 'death': 19325}], 2003: [{'name': 'Isabel', 'month': 'September', 'year': 2003, 'max_sustained_wind': 165, 'areas_affected': ['Greater Antilles', 'Bahamas', 'Eastern United States', 'Ontario'], 'damage': 5370000000.0, 'death': 51}], 2004: [{'name': 'Ivan', 'month': 'September', 'year': 2004, 'max_sustained_wind': 165, 'areas_affected': ['The Caribbean', 'Venezuela', 'United States Gulf Coast'], 'damage': 23300000000.0, 'death': 124}], 2005: [{'name': 'Emily', 'month': 'July', 'year': 2005, 'max_sustained_wind': 160, 'areas_affected': ['Windward Islands', 'Jamaica', 'Mexico', 'Texas'], 'damage': 1010000000.0, 'death': 17}, {'name': 'Katrina', 'month': 'August', 'year': 2005, 'max_sustained_wind': 175, 'areas_affected': ['Bahamas', 'United States Gulf Coast'], 'damage': 125000000000.0, 'death': 1836}, {'name': 'Rita', 'month': 'September', 'year': 2005, 'max_sustained_wind': 180, 'areas_affected': ['Cuba', 'United States Gulf Coast'], 'damage': 12000000000.0, 'death': 125}, {'name': 'Wilma', 'month': 'October', 'year': 2005, 'max_sustained_wind': 185, 'areas_affected': ['Greater Antilles', 'Central America', 'Florida'], 'damage': 29400000000.0, 'death': 87}], 2007: [{'name': 'Dean', 'month': 'August', 'year': 2007, 'max_sustained_wind': 175, 'areas_affected': ['The Caribbean', 'Central America'], 'damage': 1760000000.0, 'death': 45}, {'name': 'Felix', 'month': 'September', 'year': 2007, 'max_sustained_wind': 175, 'areas_affected': ['Nicaragua', 'Honduras'], 'damage': 720000000.0, 'death': 133}], 2016: [{'name': 'Matthew', 'month': 'October', 'year': 2016, 'max_sustained_wind': 165, 'areas_affected': ['Antilles', 'Venezuela', 'Colombia', 'United States East Coast', 'Atlantic Canada'], 'damage': 15100000000.0, 'death': 603}], 2017: [{'name': 'Irma', 'month': 'September', 'year': 2017, 'max_sustained_wind': 180, 'areas_affected': ['Cape Verde', 'The Caribbean', 'British Virgin Islands', 'U.S. Virgin Islands', 'Cuba', 'Florida'], 'damage': 64800000000.0, 'death': 138}, {'name': 'Maria', 'month': 'September', 'year': 2017, 'max_sustained_wind': 175, 'areas_affected': ['Lesser Antilles', 'Virgin Islands', 'Puerto Rico', 'Dominican Republic', 'Turks and Caicos Islands'], 'damage': 91600000000.0, 'death': 3057}], 2018: [{'name': 'Michael', 'month': 'October', 'year': 2018, 'max_sustained_wind': 160, 'areas_affected': ['Central America', 'United States Gulf Coast (especially Florida Panhandle)'], 'damage': 25100000000.0, 'death': 74}]}\n"
     ]
    }
   ],
   "source": [
    "# 3\n",
    "# Organizing by Year\n",
    "# create a new dictionary of hurricanes with year and key\n",
    "def creating_year_dictionary(hurricane_data):    \n",
    "    hurricane_data_by_year = dict()\n",
    "    for cane in hurricane_data:\n",
    "        current_year = hurricane_data[cane]['year']\n",
    "        current_cane = hurricane_data[cane]\n",
    "        if current_year not in hurricane_data_by_year:\n",
    "            hurricane_data_by_year[current_year] = [current_cane]\n",
    "        else:\n",
    "            hurricane_data_by_year[current_year].append(current_cane)\n",
    "    return hurricane_data_by_year\n",
    "\n",
    "\n",
    "hurricane_data_by_year = creating_year_dictionary(hurricane_data)\n",
    "print(hurricane_data_by_year)\n",
    "\n"
   ]
  },
  {
   "cell_type": "markdown",
   "id": "66973f77",
   "metadata": {},
   "source": [
    "4. You believe that knowing how often each of the areas of the Atlantic are affected by these strong hurricanes is important for making preparations for future hurricanes.\n",
    "\n",
    "   Write a function that counts how often each area is listed as an affected area of a hurricane. Store and return the results in a dictionary where the keys are the affected areas and the values are counts of how many times the areas were affected.\n",
    "   \n",
    "   Test your function on your hurricane dictionary."
   ]
  },
  {
   "cell_type": "code",
   "execution_count": 333,
   "id": "bff86f77",
   "metadata": {},
   "outputs": [
    {
     "name": "stdout",
     "output_type": "stream",
     "text": [
      "{'Central America': 9, 'Mexico': 7, 'Cuba': 6, 'Florida': 6, 'The Bahamas': 7, 'Lesser Antilles': 4, 'United States East Coast': 3, 'Atlantic Canada': 3, 'Northeastern United States': 2, 'Jamaica': 4, 'Cayman Islands': 1, 'Bermuda': 2, 'Texas': 4, 'Tamaulipas': 1, 'Yucatn Peninsula': 3, 'Georgia': 1, 'The Carolinas': 1, 'Virginia': 1, 'Southeastern United States': 1, 'Southwestern Quebec': 1, 'New England': 1, 'Louisiana': 1, 'Midwestern United States': 1, 'The Caribbean': 8, 'United States Gulf Coast': 6, 'United States East coast': 1, 'South Texas': 1, 'Venezuela': 3, 'Hispaniola': 1, 'South Florida': 1, 'Greater Antilles': 2, 'Bahamas': 2, 'Eastern United States': 1, 'Ontario': 1, 'Windward Islands': 1, 'Nicaragua': 1, 'Honduras': 1, 'Antilles': 1, 'Colombia': 1, 'Cape Verde': 1, 'British Virgin Islands': 1, 'U.S. Virgin Islands': 1, 'Virgin Islands': 1, 'Puerto Rico': 1, 'Dominican Republic': 1, 'Turks and Caicos Islands': 1, 'United States Gulf Coast (especially Florida Panhandle)': 1}\n"
     ]
    }
   ],
   "source": [
    "# 4\n",
    "# Counting Damaged Areas\n",
    "# create dictionary of areas to store the number of hurricanes involved in\n",
    "def create_counting_damage_area_dict():\n",
    "    all_in_1list_areas_affected = list()\n",
    "    for small_list in areas_affected:\n",
    "        for i in range(len(small_list)):\n",
    "            all_in_1list_areas_affected.append(small_list[i])\n",
    "            i += 1\n",
    "\n",
    "\n",
    "    counting_areas_affected = dict()\n",
    "    for damage in all_in_1list_areas_affected:\n",
    "        if damage not in counting_areas_affected:\n",
    "            counting_areas_affected[damage] = 1\n",
    "        else:\n",
    "            counting_areas_affected[damage] += 1\n",
    "   \n",
    "    return counting_areas_affected\n",
    "\n",
    "\n",
    "counting_areas_affected = create_counting_damage_area_dict()\n",
    "print(counting_areas_affected)"
   ]
  },
  {
   "cell_type": "markdown",
   "id": "e015eeb3",
   "metadata": {},
   "source": [
    "5. Write a function that finds the area affected by the most hurricanes, and how often it was hit.\n",
    "\n",
    "   Test your function on your affected area dictionary."
   ]
  },
  {
   "cell_type": "code",
   "execution_count": 334,
   "id": "643c73f9",
   "metadata": {},
   "outputs": [
    {
     "name": "stdout",
     "output_type": "stream",
     "text": [
      "Central America: 9\n"
     ]
    }
   ],
   "source": [
    "# 5\n",
    "# Calculating Maximum Hurricane Count\n",
    "# find most frequently affected area and the number of hurricanes involved in\n",
    "def finding_area_affected_most_by_hurri():\n",
    "    list_number_of_hurricanes = list()\n",
    "    for number_of_hurricanes in counting_areas_affected.values():\n",
    "        list_number_of_hurricanes.append(number_of_hurricanes)\n",
    "\n",
    "    max_of_num = max(list_number_of_hurricanes)\n",
    "\n",
    "    for key in counting_areas_affected:\n",
    "        if counting_areas_affected[key] == max_of_num:\n",
    "            area_affected_most_by_hurri = counting_areas_affected[key]\n",
    "            print(str(key) + ': ' + str(area_affected_most_by_hurri))\n",
    "\n",
    "finding_area_affected_most_by_hurri()\n"
   ]
  },
  {
   "cell_type": "markdown",
   "id": "4c120f59",
   "metadata": {},
   "source": [
    "6. Write a function that finds the hurricane that caused the greatest number of deaths, and how many deaths it caused.\n",
    "\n",
    "   Test your function on your hurricane dictionary."
   ]
  },
  {
   "cell_type": "code",
   "execution_count": 335,
   "id": "ced02448",
   "metadata": {},
   "outputs": [
    {
     "name": "stdout",
     "output_type": "stream",
     "text": [
      "{'Cuba I': 90, 'San Felipe II Okeechobee': 4000, 'Bahamas': 16, 'Cuba II': 3103, 'CubaBrownsville': 179, 'Tampico': 184, 'Labor Day': 408, 'New England': 682, 'Carol': 5, 'Janet': 1023, 'Carla': 43, 'Hattie': 319, 'Beulah': 688, 'Camille': 259, 'Edith': 37, 'Anita': 11, 'David': 2068, 'Allen': 269, 'Gilbert': 318, 'Hugo': 107, 'Andrew': 65, 'Mitch': 19325, 'Isabel': 51, 'Ivan': 124, 'Emily': 17, 'Katrina': 1836, 'Rita': 125, 'Wilma': 87, 'Dean': 45, 'Felix': 133, 'Matthew': 603, 'Irma': 138, 'Maria': 3057, 'Michael': 74}\n",
      "Mitch: 19325\n"
     ]
    }
   ],
   "source": [
    "# 6\n",
    "# Calculating the Deadliest Hurricane\n",
    "# find highest mortality hurricane and the number of deaths\n",
    "\n",
    "def finding_hurricane_caused_greatest_deaths():\n",
    "    names_num_of_deaths = dict()\n",
    "    for i in range(len(names)):\n",
    "        names_num_of_deaths[names[i]] = deaths[i]\n",
    "    print(names_num_of_deaths)\n",
    "\n",
    "    for key in names_num_of_deaths:\n",
    "        if names_num_of_deaths[key] == max(deaths):\n",
    "            hurricane_caused_greatest_deaths = key + ': ' + str(names_num_of_deaths[key])\n",
    "    return hurricane_caused_greatest_deaths, names_num_of_deaths\n",
    "\n",
    "hurricane_caused_greatest_deaths, names_num_of_deaths = finding_hurricane_caused_greatest_deaths()\n",
    "print(hurricane_caused_greatest_deaths)"
   ]
  },
  {
   "cell_type": "markdown",
   "id": "9ddd39b0",
   "metadata": {},
   "source": [
    "7. Just as hurricanes are rated by their windspeed, you want to try rating hurricanes based on other metrics.\n",
    "\n",
    "   Write a function that rates hurricanes on a mortality scale according to the following ratings, where the key is the rating and the value is the upper bound of deaths for that rating.\n",
    "   \n",
    "   ```py\n",
    "   mortality_scale = {0: 0,\n",
    "   1: 100,\n",
    "   2: 500,\n",
    "   3: 1000,\n",
    "   4: 10000}\n",
    "   ```\n",
    "   \n",
    "   For example, a hurricane with a `1` mortality rating would have resulted in greater than `0` but less than or equal to `100` deaths. A hurricane with a `5` mortality would have resulted in greater than `10000` deaths.\n",
    "   \n",
    "   Store the hurricanes in a new dictionary where the keys are the mortaility ratings and the values are lists containing a dictionary for each hurricane that falls into that mortality rating.\n",
    "   \n",
    "   Test your function on your hurricane dictionary."
   ]
  },
  {
   "cell_type": "code",
   "execution_count": 336,
   "id": "9eea4dc7",
   "metadata": {},
   "outputs": [
    {
     "name": "stdout",
     "output_type": "stream",
     "text": [
      "{'Cuba I': 90, 'San Felipe II Okeechobee': 4000, 'Bahamas': 16, 'Cuba II': 3103, 'CubaBrownsville': 179, 'Tampico': 184, 'Labor Day': 408, 'New England': 682, 'Carol': 5, 'Janet': 1023, 'Carla': 43, 'Hattie': 319, 'Beulah': 688, 'Camille': 259, 'Edith': 37, 'Anita': 11, 'David': 2068, 'Allen': 269, 'Gilbert': 318, 'Hugo': 107, 'Andrew': 65, 'Mitch': 19325, 'Isabel': 51, 'Ivan': 124, 'Emily': 17, 'Katrina': 1836, 'Rita': 125, 'Wilma': 87, 'Dean': 45, 'Felix': 133, 'Matthew': 603, 'Irma': 138, 'Maria': 3057, 'Michael': 74}\n"
     ]
    },
    {
     "data": {
      "text/plain": [
       "{'1': ['Cuba I',\n",
       "  'Bahamas',\n",
       "  'Carol',\n",
       "  'Carla',\n",
       "  'Edith',\n",
       "  'Anita',\n",
       "  'Andrew',\n",
       "  'Isabel',\n",
       "  'Emily',\n",
       "  'Wilma',\n",
       "  'Dean',\n",
       "  'Michael'],\n",
       " '2': ['CubaBrownsville',\n",
       "  'Tampico',\n",
       "  'Labor Day',\n",
       "  'Hattie',\n",
       "  'Camille',\n",
       "  'Allen',\n",
       "  'Gilbert',\n",
       "  'Hugo',\n",
       "  'Ivan',\n",
       "  'Rita',\n",
       "  'Felix',\n",
       "  'Irma'],\n",
       " '3': ['New England', 'Beulah', 'Matthew'],\n",
       " '4': ['San Felipe II Okeechobee',\n",
       "  'Cuba II',\n",
       "  'Janet',\n",
       "  'David',\n",
       "  'Mitch',\n",
       "  'Katrina',\n",
       "  'Maria'],\n",
       " '5': []}"
      ]
     },
     "execution_count": 336,
     "metadata": {},
     "output_type": "execute_result"
    }
   ],
   "source": [
    "# 7\n",
    "# Rating Hurricanes by Mortality\n",
    "# categorize hurricanes in new dictionary with mortality severity as key\n",
    "\n",
    "# names_num_of_deaths = {'Cuba I': 90, 'San Felipe II Okeechobee': 4000, 'Bahamas': 16, 'Cuba II': 3103...}\n",
    "def mortality_scale_names():\n",
    "    print(names_num_of_deaths)\n",
    "    rating_mortality_list= {'1': [],'2': [], '3': [], '4': [], '5': []}\n",
    "    for key in names_num_of_deaths:\n",
    "        if names_num_of_deaths[key] == 0:\n",
    "            rating_mortality_list['0'].append(key)\n",
    "        elif names_num_of_deaths[key] <= 100:\n",
    "            rating_mortality_list['1'].append(key)\n",
    "        elif names_num_of_deaths[key] <= 500:\n",
    "            rating_mortality_list['2'].append(key)\n",
    "        elif names_num_of_deaths[key] <= 1000:\n",
    "            rating_mortality_list['3'].append(key)\n",
    "        else:\n",
    "            rating_mortality_list['4'].append(key)\n",
    "    return rating_mortality_list\n",
    "\n",
    "mortality_scale_names()\n"
   ]
  },
  {
   "cell_type": "markdown",
   "id": "199b0e1c",
   "metadata": {},
   "source": [
    "8. Write a function that finds the hurricane that caused the greatest damage, and how costly it was.\n",
    "\n",
    "   Test your function on your hurricane dictionary."
   ]
  },
  {
   "cell_type": "code",
   "execution_count": 337,
   "id": "b3dc79b4",
   "metadata": {},
   "outputs": [
    {
     "name": "stdout",
     "output_type": "stream",
     "text": [
      "Katrina: 125000000000.0\n",
      "[0, 100000000.0, 0, 40000000.0, 27900000.0, 5000000.0, 0, 306000000.0, 2000000.0, 65800000.0, 326000000.0, 60300000.0, 208000000.0, 1420000000.0, 25400000.0, 0, 1540000000.0, 1240000000.0, 7100000000.0, 10000000000.0, 26500000000.0, 6200000000.0, 5370000000.0, 23300000000.0, 1010000000.0, 125000000000.0, 12000000000.0, 29400000000.0, 1760000000.0, 720000000.0, 15100000000.0, 64800000000.0, 91600000000.0, 25100000000.0]\n"
     ]
    }
   ],
   "source": [
    "# 8\n",
    "# Calculating Hurricane Maximum Damage\n",
    "# find highest damage inducing hurricane and its total cost\n",
    "def finding_greatest_damage_area():\n",
    "    cleaned_updated_damages = []\n",
    "    for i in range(len(updated_damages)):\n",
    "        if updated_damages[i] != 'Damages not recorded':\n",
    "            cleaned_updated_damages.append(updated_damages[i])\n",
    "        else:\n",
    "            cleaned_updated_damages.append(0)\n",
    "        i += 1\n",
    "    max_of_cleaned_updated_damages = max(cleaned_updated_damages)\n",
    "\n",
    "    for cane in hurricane_data:\n",
    "        if hurricane_data[cane]['damage'] == max_of_cleaned_updated_damages:\n",
    "            greatest_damage_area = cane + ': ' + str(max_of_cleaned_updated_damages)\n",
    "    return greatest_damage_area, cleaned_updated_damages\n",
    "\n",
    "greatest_damage_area, cleaned_updated_damages = finding_greatest_damage_area()\n",
    "print(greatest_damage_area)\n",
    "print(cleaned_updated_damages)"
   ]
  },
  {
   "cell_type": "markdown",
   "id": "58d22ddc",
   "metadata": {},
   "source": [
    "9. Lastly, you want to rate hurricanes according to how much damage they cause.\n",
    "\n",
    "   Write a function that rates hurricanes on a damage scale according to the following ratings, where the key is the rating and the value is the upper bound of damage for that rating.\n",
    "   ```py\n",
    "   damage_scale = {0: 0,\n",
    "   1: 100000000,\n",
    "   2: 1000000000,\n",
    "   3: 10000000000,\n",
    "   4: 50000000000}\n",
    "   ```\n",
    "   \n",
    "   For example, a hurricane with a `1` damage rating would have resulted in damages greater than `0` USD but less than or equal to `100000000` USD. A hurricane with a `5` damage rating would have resulted in damages greater than `50000000000` USD (talk about a lot of money).\n",
    "   \n",
    "   Store the hurricanes in a new dictionary where the keys are damage ratings and the values are lists containing a dictionary for each hurricane that falls into that damage rating.\n",
    "   \n",
    "   Test your function on your hurricane dictionary."
   ]
  },
  {
   "cell_type": "code",
   "execution_count": 340,
   "id": "e543f487",
   "metadata": {},
   "outputs": [
    {
     "name": "stdout",
     "output_type": "stream",
     "text": [
      "[0, 100000000.0, 0, 40000000.0, 27900000.0, 5000000.0, 0, 306000000.0, 2000000.0, 65800000.0, 326000000.0, 60300000.0, 208000000.0, 1420000000.0, 25400000.0, 0, 1540000000.0, 1240000000.0, 7100000000.0, 10000000000.0, 26500000000.0, 6200000000.0, 5370000000.0, 23300000000.0, 1010000000.0, 125000000000.0, 12000000000.0, 29400000000.0, 1760000000.0, 720000000.0, 15100000000.0, 64800000000.0, 91600000000.0, 25100000000.0]\n"
     ]
    },
    {
     "data": {
      "text/plain": [
       "{'1': ['Cuba I',\n",
       "  'San Felipe II Okeechobee',\n",
       "  'Bahamas',\n",
       "  'Cuba II',\n",
       "  'CubaBrownsville',\n",
       "  'Tampico',\n",
       "  'Labor Day',\n",
       "  'Carol',\n",
       "  'Janet',\n",
       "  'Hattie',\n",
       "  'Edith',\n",
       "  'Anita'],\n",
       " '2': ['New England', 'Carla', 'Beulah', 'Felix'],\n",
       " '3': ['Camille',\n",
       "  'David',\n",
       "  'Allen',\n",
       "  'Gilbert',\n",
       "  'Hugo',\n",
       "  'Mitch',\n",
       "  'Isabel',\n",
       "  'Emily',\n",
       "  'Dean'],\n",
       " '4': ['Andrew', 'Ivan', 'Rita', 'Wilma', 'Matthew', 'Michael'],\n",
       " '5': ['Katrina', 'Irma', 'Maria']}"
      ]
     },
     "execution_count": 340,
     "metadata": {},
     "output_type": "execute_result"
    }
   ],
   "source": [
    "# 9\n",
    "# Rating Hurricanes by Damage\n",
    "def rating_damage_cost_dict():\n",
    "    damage_scale = {0: 0,\n",
    "                    1: 100000000,\n",
    "                    2: 1000000000,\n",
    "                    3: 10000000000,\n",
    "                    4: 50000000000}\n",
    "    print(cleaned_updated_damages)\n",
    "    rating_damages_list =  {'1': [],'2': [], '3': [], '4': [], '5': []}\n",
    "    for i in range(len(names)):\n",
    "        if cleaned_updated_damages[i] <= damage_scale[1]:\n",
    "            rating_damages_list['1'].append(names[i])\n",
    "        elif cleaned_updated_damages[i] <= damage_scale[2]:\n",
    "            rating_damages_list['2'].append(names[i])\n",
    "        elif cleaned_updated_damages[i] <= damage_scale[3]:\n",
    "            rating_damages_list['3'].append(names[i])\n",
    "        elif cleaned_updated_damages[i] <= damage_scale[4]:\n",
    "            rating_damages_list['4'].append(names[i])\n",
    "        else:\n",
    "            rating_damages_list['5'].append(names[i])\n",
    "    return rating_damages_list\n",
    "\n",
    "\n",
    "rating_damage_cost_dict()"
   ]
  },
  {
   "cell_type": "markdown",
   "id": "928c5fd2",
   "metadata": {},
   "source": [
    "## Solution"
   ]
  },
  {
   "cell_type": "markdown",
   "id": "252616a3",
   "metadata": {},
   "source": [
    "Great work! View the **Hurricane Analysis_Solution.ipynb** file or visit [our forums](https://discuss.codecademy.com/t/hurricane-analysis-challenge-project-python/462363) to compare your project to our sample solution code. You can also learn how to host your own solution on GitHub so you can share it with other learners! Your solution might look different than ours, and that's okay! There are multiple ways to solve these projects, and you'll learn more by seeing others' code."
   ]
  },
  {
   "cell_type": "code",
   "execution_count": null,
   "id": "da8f7141",
   "metadata": {},
   "outputs": [],
   "source": []
  }
 ],
 "metadata": {
  "kernelspec": {
   "display_name": "Python 3.10.8 64-bit (microsoft store)",
   "language": "python",
   "name": "python3"
  },
  "language_info": {
   "codemirror_mode": {
    "name": "ipython",
    "version": 3
   },
   "file_extension": ".py",
   "mimetype": "text/x-python",
   "name": "python",
   "nbconvert_exporter": "python",
   "pygments_lexer": "ipython3",
   "version": "3.12.3"
  },
  "vscode": {
   "interpreter": {
    "hash": "b784193cf0f9970b27f3c12f21dbff8ed97e3cf923dc23fe210654173bc3fdd0"
   }
  }
 },
 "nbformat": 4,
 "nbformat_minor": 5
}
